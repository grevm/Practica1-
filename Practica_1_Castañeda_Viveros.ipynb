{
  "nbformat": 4,
  "nbformat_minor": 0,
  "metadata": {
    "colab": {
      "provenance": []
    },
    "kernelspec": {
      "name": "python3",
      "display_name": "Python 3"
    },
    "language_info": {
      "name": "python"
    }
  },
  "cells": [
    {
      "cell_type": "code",
      "execution_count": 2,
      "metadata": {
        "colab": {
          "base_uri": "https://localhost:8080/"
        },
        "id": "Oibzy_cz5Nha",
        "outputId": "de77eb52-e838-4242-ef1e-f3d539e39df6"
      },
      "outputs": [
        {
          "output_type": "stream",
          "name": "stdout",
          "text": [
            "Ingresa una cadena con paréntesis: (((())))\n",
            "True - Los paréntesis están correctos.\n"
          ]
        }
      ],
      "source": [
        "# Practica 1- Castañeda Gonzalez Aldo Daniel y Viveros Muñoz Grecia Gabriela\n",
        "# Definimos una funcion 'verificar_parentesis' que evalua la entrada del usuario\n",
        "def verificar_parentesis():\n",
        "    # Recibimos la entrada del usuario\n",
        "    s = input(\"Ingresa una cadena con paréntesis: \")\n",
        "    # Declaramos una lista vacia\n",
        "    cadena = []\n",
        "    # Usamos la estructura de control for para iterar sobre la cadena que recibiremos.\n",
        "    for letra in s:\n",
        "        # Usamos la estructura de control if con la condicional de que si la primer letra de la cadena es igual al parentesis '('\n",
        "        if letra == '(':\n",
        "            # Si entra en el if lo agregara a la lista con ayuda de append()\n",
        "            cadena.append(letra)\n",
        "        # Tendremos un elif si no pasa el primer if y evalua si este es ')'\n",
        "        elif letra == ')':\n",
        "            # Si la cadena es null, return False\n",
        "            if not cadena:\n",
        "                return False\n",
        "            # Si tenemos nuestra cadena, eliminamos el ultimo con ayuda de pop() y lo devolvemos hasta vaciar la lista\n",
        "            cadena.pop()\n",
        "        # Si no es ninguno de los casos anteriores significa que es un caracter que no es un parentesis y retornamos false\n",
        "        else:\n",
        "            print(\"La entrada ingresada no es un parentesis.\")\n",
        "            return False\n",
        "\n",
        "    # Al final si la lista es vacia regresa True y significa que todos los parentesis estan cerrados, y de contener algun elemento regresa False\n",
        "    if not cadena:\n",
        "        return True\n",
        "    else:\n",
        "        return False\n",
        "\n",
        "# Con base en la funcion previamente definida, imprimiremos los mensajes correspondientes.\n",
        "if verificar_parentesis():\n",
        "    # En el caso de true\n",
        "    print(\"True - Los paréntesis están correctos.\")\n",
        "else:\n",
        "    # En el caso de false\n",
        "    print(\"False - Los paréntesis no están correctos.\")"
      ]
    }
  ]
}